{
 "cells": [
  {
   "cell_type": "code",
   "execution_count": 6,
   "id": "1b3c1e7b",
   "metadata": {},
   "outputs": [],
   "source": [
    "from sklearn.feature_extraction.text import CountVectorizer\n"
   ]
  },
  {
   "cell_type": "code",
   "execution_count": 7,
   "id": "c08eaa0f",
   "metadata": {},
   "outputs": [],
   "source": [
    "dataset=['Hey welcome to study mart',\n",
    "        'Hey i am akib',\n",
    "        'i love data science',\n",
    "        'please sunscribe aiquest'\n",
    "        ]"
   ]
  },
  {
   "cell_type": "code",
   "execution_count": 3,
   "id": "ff70fd1b",
   "metadata": {},
   "outputs": [],
   "source": [
    "cv = CountVectorizer()\n",
    "x=cv.fit_transform(dataset)"
   ]
  },
  {
   "cell_type": "code",
   "execution_count": null,
   "id": "fd8f0a43",
   "metadata": {},
   "outputs": [],
   "source": []
  },
  {
   "cell_type": "code",
   "execution_count": 8,
   "id": "50365502",
   "metadata": {},
   "outputs": [
    {
     "data": {
      "text/plain": [
       "['aiquest',\n",
       " 'akib',\n",
       " 'am',\n",
       " 'data',\n",
       " 'hey',\n",
       " 'love',\n",
       " 'mart',\n",
       " 'please',\n",
       " 'science',\n",
       " 'study',\n",
       " 'sunscribe',\n",
       " 'to',\n",
       " 'welcome']"
      ]
     },
     "execution_count": 8,
     "metadata": {},
     "output_type": "execute_result"
    }
   ],
   "source": [
    "cv.get_feature_names()"
   ]
  },
  {
   "cell_type": "code",
   "execution_count": 9,
   "id": "a62e3697",
   "metadata": {},
   "outputs": [
    {
     "data": {
      "text/plain": [
       "array([[0, 0, 0, 0, 1, 0, 1, 0, 0, 1, 0, 1, 1],\n",
       "       [0, 1, 1, 0, 1, 0, 0, 0, 0, 0, 0, 0, 0],\n",
       "       [0, 0, 0, 1, 0, 1, 0, 0, 1, 0, 0, 0, 0],\n",
       "       [1, 0, 0, 0, 0, 0, 0, 1, 0, 0, 1, 0, 0]], dtype=int64)"
      ]
     },
     "execution_count": 9,
     "metadata": {},
     "output_type": "execute_result"
    }
   ],
   "source": [
    "x.toarray()"
   ]
  },
  {
   "cell_type": "code",
   "execution_count": 10,
   "id": "de0286bc",
   "metadata": {},
   "outputs": [],
   "source": [
    "from sklearn.feature_extraction.text import TfidfVectorizer"
   ]
  },
  {
   "cell_type": "code",
   "execution_count": 11,
   "id": "10878c37",
   "metadata": {},
   "outputs": [],
   "source": [
    "dataset=['Hey welcome to study mart',\n",
    "        'Hey i am akib',\n",
    "        'i love data science',\n",
    "        'please sunscribe aiquest'\n",
    "        ]"
   ]
  },
  {
   "cell_type": "code",
   "execution_count": 15,
   "id": "6b183894",
   "metadata": {},
   "outputs": [],
   "source": [
    "cv = TfidfVectorizer()\n",
    "x_train=cv.fit_transform(dataset)"
   ]
  },
  {
   "cell_type": "code",
   "execution_count": 16,
   "id": "38c677bc",
   "metadata": {},
   "outputs": [
    {
     "data": {
      "text/plain": [
       "['aiquest',\n",
       " 'akib',\n",
       " 'am',\n",
       " 'data',\n",
       " 'hey',\n",
       " 'love',\n",
       " 'mart',\n",
       " 'please',\n",
       " 'science',\n",
       " 'study',\n",
       " 'sunscribe',\n",
       " 'to',\n",
       " 'welcome']"
      ]
     },
     "execution_count": 16,
     "metadata": {},
     "output_type": "execute_result"
    }
   ],
   "source": [
    "cv.get_feature_names()"
   ]
  },
  {
   "cell_type": "code",
   "execution_count": 18,
   "id": "cd2ec147",
   "metadata": {},
   "outputs": [
    {
     "data": {
      "text/plain": [
       "array([[0.        , 0.        , 0.        , 0.        , 0.36673901,\n",
       "        0.        , 0.46516193, 0.        , 0.        , 0.46516193,\n",
       "        0.        , 0.46516193, 0.46516193],\n",
       "       [0.        , 0.61761437, 0.61761437, 0.        , 0.48693426,\n",
       "        0.        , 0.        , 0.        , 0.        , 0.        ,\n",
       "        0.        , 0.        , 0.        ],\n",
       "       [0.        , 0.        , 0.        , 0.57735027, 0.        ,\n",
       "        0.57735027, 0.        , 0.        , 0.57735027, 0.        ,\n",
       "        0.        , 0.        , 0.        ],\n",
       "       [0.57735027, 0.        , 0.        , 0.        , 0.        ,\n",
       "        0.        , 0.        , 0.57735027, 0.        , 0.        ,\n",
       "        0.57735027, 0.        , 0.        ]])"
      ]
     },
     "execution_count": 18,
     "metadata": {},
     "output_type": "execute_result"
    }
   ],
   "source": [
    "x_train.toarray()"
   ]
  },
  {
   "cell_type": "code",
   "execution_count": null,
   "id": "b93e99a5",
   "metadata": {},
   "outputs": [],
   "source": []
  }
 ],
 "metadata": {
  "kernelspec": {
   "display_name": "Python 3",
   "language": "python",
   "name": "python3"
  },
  "language_info": {
   "codemirror_mode": {
    "name": "ipython",
    "version": 3
   },
   "file_extension": ".py",
   "mimetype": "text/x-python",
   "name": "python",
   "nbconvert_exporter": "python",
   "pygments_lexer": "ipython3",
   "version": "3.7.3"
  }
 },
 "nbformat": 4,
 "nbformat_minor": 5
}
